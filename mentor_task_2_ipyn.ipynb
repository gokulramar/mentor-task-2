{
  "nbformat": 4,
  "nbformat_minor": 0,
  "metadata": {
    "colab": {
      "provenance": [],
      "authorship_tag": "ABX9TyNr5VOGmRJlE3aS0fmI/wkw",
      "include_colab_link": true
    },
    "kernelspec": {
      "name": "python3",
      "display_name": "Python 3"
    },
    "language_info": {
      "name": "python"
    }
  },
  "cells": [
    {
      "cell_type": "markdown",
      "metadata": {
        "id": "view-in-github",
        "colab_type": "text"
      },
      "source": [
        "<a href=\"https://colab.research.google.com/github/gokulramar/mentor-task-2/blob/main/mentor_task_2_ipyn.ipynb\" target=\"_parent\"><img src=\"https://colab.research.google.com/assets/colab-badge.svg\" alt=\"Open In Colab\"/></a>"
      ]
    },
    {
      "cell_type": "code",
      "source": [
        "import pandas as pd"
      ],
      "metadata": {
        "id": "htCuFMA9SK94"
      },
      "execution_count": 5,
      "outputs": []
    },
    {
      "cell_type": "code",
      "source": [
        "import numpy as np"
      ],
      "metadata": {
        "id": "ASbK1eX4SlwR"
      },
      "execution_count": 10,
      "outputs": []
    },
    {
      "cell_type": "code",
      "source": [
        "import itertools as it"
      ],
      "metadata": {
        "id": "sxOVTiFLR3eE"
      },
      "execution_count": 6,
      "outputs": []
    },
    {
      "cell_type": "code",
      "execution_count": 11,
      "metadata": {
        "colab": {
          "base_uri": "https://localhost:8080/"
        },
        "id": "UbepV9M4RnWa",
        "outputId": "8f071595-d5e6-4c11-95c2-b83570f04d39"
      },
      "outputs": [
        {
          "output_type": "stream",
          "name": "stdout",
          "text": [
            "5040\n"
          ]
        }
      ],
      "source": [
        "x=np.array([0,1,2,3,4,5,6,7,8,9])\n",
        "pwd=[5,7,3,8]\n",
        "c=it.permutations(x,4)\n",
        "count=[]\n",
        "for i in list(c):\n",
        "  count.append(i)\n",
        "  if i == pwd:\n",
        "    break  \n",
        "\n",
        "print(len(count))"
      ]
    }
  ]
}